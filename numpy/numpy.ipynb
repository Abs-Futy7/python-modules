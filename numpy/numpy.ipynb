{
 "cells": [
  {
   "cell_type": "markdown",
   "id": "21e44abe-0f51-4a90-b22a-9d33ad74d3b5",
   "metadata": {},
   "source": [
    "<h1 style=\"color:yellow\"><b>Numpy</b></h1>"
   ]
  },
  {
   "cell_type": "code",
   "execution_count": 3,
   "id": "3a6a033a-bff4-4dc8-9192-4a0c7e59dc47",
   "metadata": {},
   "outputs": [],
   "source": [
    "import numpy as np"
   ]
  },
  {
   "cell_type": "code",
   "execution_count": 4,
   "id": "2deee98b-e17f-48b7-850e-6e96eef8c3f8",
   "metadata": {},
   "outputs": [
    {
     "name": "stdout",
     "output_type": "stream",
     "text": [
      "Hello\n"
     ]
    }
   ],
   "source": [
    "print(\"Hello\")"
   ]
  },
  {
   "cell_type": "code",
   "execution_count": 5,
   "id": "be23098c-cbf7-410a-9fd2-3622a2a65b7a",
   "metadata": {},
   "outputs": [],
   "source": [
    "myarray = np.array([1,2,3,4,5])"
   ]
  },
  {
   "cell_type": "code",
   "execution_count": 6,
   "id": "b631f072-c743-40bf-bac6-52da3393156a",
   "metadata": {},
   "outputs": [
    {
     "data": {
      "text/plain": [
       "array([1, 2, 3, 4, 5])"
      ]
     },
     "execution_count": 6,
     "metadata": {},
     "output_type": "execute_result"
    }
   ],
   "source": [
    "myarray"
   ]
  },
  {
   "cell_type": "code",
   "execution_count": 7,
   "id": "959ba102-0514-4f32-b502-092d79331e1b",
   "metadata": {},
   "outputs": [],
   "source": [
    "a = np.array([2, 444, 66, 2, 7], np.int64)"
   ]
  },
  {
   "cell_type": "code",
   "execution_count": 8,
   "id": "86d5f8a7-59ce-444d-88db-bcc5b75c30cc",
   "metadata": {},
   "outputs": [
    {
     "data": {
      "text/plain": [
       "array([  2, 444,  66,   2,   7])"
      ]
     },
     "execution_count": 8,
     "metadata": {},
     "output_type": "execute_result"
    }
   ],
   "source": [
    "a"
   ]
  },
  {
   "cell_type": "markdown",
   "id": "59b8cdf2-11cb-4f67-bdf8-eb4c0ee5d382",
   "metadata": {},
   "source": [
    "np.int64, np.int32 etc used for size allocation"
   ]
  },
  {
   "cell_type": "code",
   "execution_count": 7,
   "id": "ebb8eb75-6d7f-4b43-a3b9-20fa899f42fc",
   "metadata": {},
   "outputs": [
    {
     "data": {
      "text/plain": [
       "np.int64(2)"
      ]
     },
     "execution_count": 7,
     "metadata": {},
     "output_type": "execute_result"
    }
   ],
   "source": [
    "a[0]"
   ]
  },
  {
   "cell_type": "code",
   "execution_count": 8,
   "id": "4290ef24-3ef0-487a-b629-eb3f8508ac7a",
   "metadata": {},
   "outputs": [
    {
     "data": {
      "text/plain": [
       "(5,)"
      ]
     },
     "execution_count": 8,
     "metadata": {},
     "output_type": "execute_result"
    }
   ],
   "source": [
    "a.shape"
   ]
  },
  {
   "cell_type": "code",
   "execution_count": 9,
   "id": "be7fdc2d-7b9c-4987-8a8b-175912397a9e",
   "metadata": {},
   "outputs": [],
   "source": [
    "b = np.array([[3,4,6,8]], np.int32)"
   ]
  },
  {
   "cell_type": "code",
   "execution_count": 10,
   "id": "d26410d1-546f-4393-a855-ff4403d3d242",
   "metadata": {},
   "outputs": [
    {
     "data": {
      "text/plain": [
       "array([[3, 4, 6, 8]], dtype=int32)"
      ]
     },
     "execution_count": 10,
     "metadata": {},
     "output_type": "execute_result"
    }
   ],
   "source": [
    "b"
   ]
  },
  {
   "cell_type": "code",
   "execution_count": 11,
   "id": "fa6a811e-1dac-482a-b3c4-47beca7aca7b",
   "metadata": {},
   "outputs": [
    {
     "data": {
      "text/plain": [
       "(1, 4)"
      ]
     },
     "execution_count": 11,
     "metadata": {},
     "output_type": "execute_result"
    }
   ],
   "source": [
    "b.shape"
   ]
  },
  {
   "cell_type": "markdown",
   "id": "0802131a-9d8b-457d-92f9-e87e46d839a0",
   "metadata": {},
   "source": [
    "Here (1,4) means 1 row and 4 columns"
   ]
  },
  {
   "cell_type": "code",
   "execution_count": 12,
   "id": "3f2c880f-4d4e-4e55-9435-454e4241f964",
   "metadata": {},
   "outputs": [
    {
     "data": {
      "text/plain": [
       "np.int32(3)"
      ]
     },
     "execution_count": 12,
     "metadata": {},
     "output_type": "execute_result"
    }
   ],
   "source": [
    "b[0,0]"
   ]
  },
  {
   "cell_type": "markdown",
   "id": "0a414f77-ae3f-4b95-a7f8-5d95e1032642",
   "metadata": {},
   "source": [
    "Showing the value of 0 th row and 0th col value"
   ]
  },
  {
   "cell_type": "code",
   "execution_count": 14,
   "id": "0b8081e7-ed59-438b-bd33-633065f725c9",
   "metadata": {},
   "outputs": [
    {
     "data": {
      "text/plain": [
       "dtype('int32')"
      ]
     },
     "execution_count": 14,
     "metadata": {},
     "output_type": "execute_result"
    }
   ],
   "source": [
    "b.dtype"
   ]
  },
  {
   "cell_type": "markdown",
   "id": "f58eb010-de1a-4b09-a507-bb2aee73923a",
   "metadata": {},
   "source": [
    "shows the type of the data"
   ]
  },
  {
   "cell_type": "markdown",
   "id": "103008c7-46a1-4e19-b067-6e3375c25da3",
   "metadata": {},
   "source": [
    "<h4> For type references: <a href=\"https://numpy.org/doc/2.1/reference/arrays.dtypes.html\">Type references</a> </h4>"
   ]
  },
  {
   "cell_type": "markdown",
   "id": "3e6b13a0-4aee-468f-b86a-f137667c9e73",
   "metadata": {},
   "source": [
    "# Array Creation: Conversion From Other Python Structures"
   ]
  },
  {
   "cell_type": "code",
   "execution_count": 15,
   "id": "d6dac13e-1237-4a1a-8cf9-2e8501216dda",
   "metadata": {},
   "outputs": [],
   "source": [
    "listarray = np.array([[2,4,5], [5, 7, 65], [1,45,6]])"
   ]
  },
  {
   "cell_type": "code",
   "execution_count": 16,
   "id": "b877ead9-6584-4a07-8577-8254f2a8a825",
   "metadata": {},
   "outputs": [
    {
     "data": {
      "text/plain": [
       "array([[ 2,  4,  5],\n",
       "       [ 5,  7, 65],\n",
       "       [ 1, 45,  6]])"
      ]
     },
     "execution_count": 16,
     "metadata": {},
     "output_type": "execute_result"
    }
   ],
   "source": [
    "listarray"
   ]
  },
  {
   "cell_type": "code",
   "execution_count": 17,
   "id": "aa202e2b-5c83-4fee-a638-accb2c104030",
   "metadata": {},
   "outputs": [
    {
     "data": {
      "text/plain": [
       "(3, 3)"
      ]
     },
     "execution_count": 17,
     "metadata": {},
     "output_type": "execute_result"
    }
   ],
   "source": [
    "listarray.shape"
   ]
  },
  {
   "cell_type": "code",
   "execution_count": 18,
   "id": "baa512ad-10f6-445a-b6e8-0a0dd306eeca",
   "metadata": {},
   "outputs": [
    {
     "data": {
      "text/plain": [
       "9"
      ]
     },
     "execution_count": 18,
     "metadata": {},
     "output_type": "execute_result"
    }
   ],
   "source": [
    "listarray.size"
   ]
  },
  {
   "cell_type": "code",
   "execution_count": 19,
   "id": "1754c271-6ecb-4e6e-9675-667528c36086",
   "metadata": {},
   "outputs": [
    {
     "data": {
      "text/plain": [
       "dtype('int64')"
      ]
     },
     "execution_count": 19,
     "metadata": {},
     "output_type": "execute_result"
    }
   ],
   "source": [
    "listarray.dtype"
   ]
  },
  {
   "cell_type": "code",
   "execution_count": 20,
   "id": "c34e5478-dd0a-4431-95a2-4e1287904088",
   "metadata": {},
   "outputs": [
    {
     "data": {
      "text/plain": [
       "array({3, 5, 6}, dtype=object)"
      ]
     },
     "execution_count": 20,
     "metadata": {},
     "output_type": "execute_result"
    }
   ],
   "source": [
    "np.array({3,5,6})"
   ]
  },
  {
   "cell_type": "code",
   "execution_count": 21,
   "id": "1a458013-5b2a-467d-8c8f-4a390ad9d6a8",
   "metadata": {},
   "outputs": [],
   "source": [
    "zeros = np.zeros((2,4))"
   ]
  },
  {
   "cell_type": "code",
   "execution_count": 22,
   "id": "394a769e-f909-4e1c-b24a-f11eabca9922",
   "metadata": {},
   "outputs": [
    {
     "data": {
      "text/plain": [
       "array([[0., 0., 0., 0.],\n",
       "       [0., 0., 0., 0.]])"
      ]
     },
     "execution_count": 22,
     "metadata": {},
     "output_type": "execute_result"
    }
   ],
   "source": [
    "zeros"
   ]
  },
  {
   "cell_type": "markdown",
   "id": "1908c8d2-0f11-4b14-beba-1f81abe24804",
   "metadata": {},
   "source": [
    "Creates a 2,4 sized array of 0s"
   ]
  },
  {
   "cell_type": "code",
   "execution_count": 23,
   "id": "70207c1c-3b70-4abe-8496-4a7f03eeae2c",
   "metadata": {},
   "outputs": [],
   "source": [
    "rng = np.arange(10)"
   ]
  },
  {
   "cell_type": "code",
   "execution_count": 24,
   "id": "15506f32-5461-428e-ab63-5c92b3401bba",
   "metadata": {},
   "outputs": [
    {
     "data": {
      "text/plain": [
       "array([0, 1, 2, 3, 4, 5, 6, 7, 8, 9])"
      ]
     },
     "execution_count": 24,
     "metadata": {},
     "output_type": "execute_result"
    }
   ],
   "source": [
    "rng"
   ]
  },
  {
   "cell_type": "markdown",
   "id": "9be03754-2a9a-48c5-a4b6-e2275d8aacec",
   "metadata": {},
   "source": [
    "***creates an array from 0 to (n-1)***"
   ]
  },
  {
   "cell_type": "code",
   "execution_count": 9,
   "id": "bf5478e6-c298-4c13-a138-65a12289327c",
   "metadata": {},
   "outputs": [],
   "source": [
    "lspace1 = np.linspace(1,4,4)"
   ]
  },
  {
   "cell_type": "code",
   "execution_count": 10,
   "id": "a1b4fa74-a3f4-4129-903c-19ee3cf24f51",
   "metadata": {},
   "outputs": [
    {
     "data": {
      "text/plain": [
       "array([1., 2., 3., 4.])"
      ]
     },
     "execution_count": 10,
     "metadata": {},
     "output_type": "execute_result"
    }
   ],
   "source": [
    "lspace1"
   ]
  },
  {
   "cell_type": "code",
   "execution_count": 11,
   "id": "abc9a9de-ba32-4e45-b89f-77c218688547",
   "metadata": {},
   "outputs": [],
   "source": [
    "lspace2 = np.linspace(1,5,4)"
   ]
  },
  {
   "cell_type": "code",
   "execution_count": 12,
   "id": "f87259d3-f26a-4464-aa24-4ab7de95bd95",
   "metadata": {},
   "outputs": [
    {
     "data": {
      "text/plain": [
       "array([1.        , 2.33333333, 3.66666667, 5.        ])"
      ]
     },
     "execution_count": 12,
     "metadata": {},
     "output_type": "execute_result"
    }
   ],
   "source": [
    "lspace2"
   ]
  },
  {
   "cell_type": "code",
   "execution_count": 13,
   "id": "697ec27b-6323-4b73-923d-042929f90c03",
   "metadata": {},
   "outputs": [],
   "source": [
    "arr = np.arange(15)"
   ]
  },
  {
   "cell_type": "code",
   "execution_count": 14,
   "id": "431304ed-8445-40aa-b6d2-2fdfd7ffe99e",
   "metadata": {},
   "outputs": [
    {
     "data": {
      "text/plain": [
       "array([ 0,  1,  2,  3,  4,  5,  6,  7,  8,  9, 10, 11, 12, 13, 14])"
      ]
     },
     "execution_count": 14,
     "metadata": {},
     "output_type": "execute_result"
    }
   ],
   "source": [
    "arr"
   ]
  },
  {
   "cell_type": "code",
   "execution_count": 15,
   "id": "0da60007-82f5-479e-8fbe-5761f5acd968",
   "metadata": {},
   "outputs": [
    {
     "data": {
      "text/plain": [
       "array([[ 0,  1,  2,  3,  4],\n",
       "       [ 5,  6,  7,  8,  9],\n",
       "       [10, 11, 12, 13, 14]])"
      ]
     },
     "execution_count": 15,
     "metadata": {},
     "output_type": "execute_result"
    }
   ],
   "source": [
    "arr.reshape(3,5)"
   ]
  },
  {
   "cell_type": "code",
   "execution_count": 16,
   "id": "da75006c-bf50-4b4c-b532-8619a8fc1a91",
   "metadata": {},
   "outputs": [
    {
     "data": {
      "text/plain": [
       "array([ 0,  1,  2,  3,  4,  5,  6,  7,  8,  9, 10, 11, 12, 13, 14])"
      ]
     },
     "execution_count": 16,
     "metadata": {},
     "output_type": "execute_result"
    }
   ],
   "source": [
    "arr.ravel()"
   ]
  },
  {
   "cell_type": "markdown",
   "id": "40d23b7b-05e3-4037-8f6c-2001ec8f650e",
   "metadata": {},
   "source": [
    "<h2><b>Numpy Axis</b></h2>"
   ]
  },
  {
   "cell_type": "code",
   "execution_count": 17,
   "id": "fa84243e-46f4-4e0f-9a5c-c711b2cb4461",
   "metadata": {},
   "outputs": [],
   "source": [
    "x = [ [1,2,3], [4,5,6], [7,1,0] ]"
   ]
  },
  {
   "cell_type": "code",
   "execution_count": 18,
   "id": "396c0f8d-e194-4842-b9e9-e7d6c47f9013",
   "metadata": {},
   "outputs": [],
   "source": [
    "arr = np.array(x)"
   ]
  },
  {
   "cell_type": "code",
   "execution_count": 19,
   "id": "039c97ff-8a76-48bb-8982-ebc1de8e2a91",
   "metadata": {},
   "outputs": [
    {
     "data": {
      "text/plain": [
       "array([[1, 2, 3],\n",
       "       [4, 5, 6],\n",
       "       [7, 1, 0]])"
      ]
     },
     "execution_count": 19,
     "metadata": {},
     "output_type": "execute_result"
    }
   ],
   "source": [
    "arr"
   ]
  },
  {
   "cell_type": "code",
   "execution_count": 21,
   "id": "566a94b6-f47f-4a25-86dd-b06b931f98f6",
   "metadata": {},
   "outputs": [
    {
     "data": {
      "text/plain": [
       "array([12,  8,  9])"
      ]
     },
     "execution_count": 21,
     "metadata": {},
     "output_type": "execute_result"
    }
   ],
   "source": [
    "arr.sum(axis=0)"
   ]
  },
  {
   "cell_type": "markdown",
   "id": "7f779a5d-3f6c-47c8-9d5a-6c8de5c5982c",
   "metadata": {},
   "source": [
    "Here axis = 0 means the arrow is pointing down, so\n",
    "we get the sum of (1,4,7), (2,3,1)... "
   ]
  },
  {
   "cell_type": "code",
   "execution_count": 22,
   "id": "82fa1039-4b4a-4549-8697-0e3243104d84",
   "metadata": {},
   "outputs": [
    {
     "data": {
      "text/plain": [
       "array([ 6, 15,  8])"
      ]
     },
     "execution_count": 22,
     "metadata": {},
     "output_type": "execute_result"
    }
   ],
   "source": [
    "arr.sum(axis=1)"
   ]
  },
  {
   "cell_type": "markdown",
   "id": "60352c97-edbc-4f25-8440-3ecc515c4b8e",
   "metadata": {},
   "source": [
    "Here, axis = 1 means left to right, and we get the sum row wise"
   ]
  },
  {
   "cell_type": "code",
   "execution_count": 23,
   "id": "f86aa87a-3499-4504-bcc3-91c47fd013f9",
   "metadata": {},
   "outputs": [
    {
     "data": {
      "text/plain": [
       "array([[1, 4, 7],\n",
       "       [2, 5, 1],\n",
       "       [3, 6, 0]])"
      ]
     },
     "execution_count": 23,
     "metadata": {},
     "output_type": "execute_result"
    }
   ],
   "source": [
    "arr.T"
   ]
  },
  {
   "cell_type": "markdown",
   "id": "010a697d-ca20-4ae2-bfb4-9f37f1aaa9ce",
   "metadata": {},
   "source": [
    "Transposes the array"
   ]
  },
  {
   "cell_type": "code",
   "execution_count": 24,
   "id": "7490630e-d7cd-48c3-931d-7dd347b92b85",
   "metadata": {},
   "outputs": [
    {
     "data": {
      "text/plain": [
       "<numpy.flatiter at 0x18287f377e0>"
      ]
     },
     "execution_count": 24,
     "metadata": {},
     "output_type": "execute_result"
    }
   ],
   "source": [
    "arr.flat"
   ]
  },
  {
   "cell_type": "code",
   "execution_count": 25,
   "id": "7c6bb235-389b-42c5-95bb-d86c7bbaf324",
   "metadata": {},
   "outputs": [
    {
     "name": "stdout",
     "output_type": "stream",
     "text": [
      "1\n",
      "2\n",
      "3\n",
      "4\n",
      "5\n",
      "6\n",
      "7\n",
      "1\n",
      "0\n"
     ]
    }
   ],
   "source": [
    "for item in arr.flat:\n",
    "    print(item)"
   ]
  },
  {
   "cell_type": "code",
   "execution_count": 26,
   "id": "86a4d6d1-444f-4d4c-b70b-aaa9ea01f8f2",
   "metadata": {},
   "outputs": [
    {
     "data": {
      "text/plain": [
       "2"
      ]
     },
     "execution_count": 26,
     "metadata": {},
     "output_type": "execute_result"
    }
   ],
   "source": [
    "arr.ndim"
   ]
  },
  {
   "cell_type": "markdown",
   "id": "c646fd8c-bc95-4123-9366-36627d51b334",
   "metadata": {},
   "source": [
    "ndim -> number of dimension"
   ]
  },
  {
   "cell_type": "code",
   "execution_count": 27,
   "id": "2f87459e-af60-4947-8efd-a0b9e2f28092",
   "metadata": {},
   "outputs": [
    {
     "data": {
      "text/plain": [
       "9"
      ]
     },
     "execution_count": 27,
     "metadata": {},
     "output_type": "execute_result"
    }
   ],
   "source": [
    "arr.size"
   ]
  },
  {
   "cell_type": "code",
   "execution_count": 28,
   "id": "d9373d01-7d88-4ca8-a960-e724b765a020",
   "metadata": {},
   "outputs": [
    {
     "data": {
      "text/plain": [
       "72"
      ]
     },
     "execution_count": 28,
     "metadata": {},
     "output_type": "execute_result"
    }
   ],
   "source": [
    "arr.nbytes"
   ]
  },
  {
   "cell_type": "markdown",
   "id": "02171597-aed9-42f7-b62f-ec378761bc37",
   "metadata": {},
   "source": [
    "returns total bytes consumed by the array"
   ]
  },
  {
   "cell_type": "code",
   "execution_count": 31,
   "id": "40416c46-ef83-498a-b209-4d6c1f10bc0c",
   "metadata": {},
   "outputs": [],
   "source": [
    "brr = np.array([34, 56, 7, -3, 5])"
   ]
  },
  {
   "cell_type": "code",
   "execution_count": 32,
   "id": "33136c0c-8be4-49d1-babb-1e048a9da3e5",
   "metadata": {},
   "outputs": [
    {
     "data": {
      "text/plain": [
       "np.int64(1)"
      ]
     },
     "execution_count": 32,
     "metadata": {},
     "output_type": "execute_result"
    }
   ],
   "source": [
    "brr.argmax()"
   ]
  },
  {
   "cell_type": "markdown",
   "id": "115bda7f-27ce-4d1e-9445-e6dc59375a8c",
   "metadata": {},
   "source": [
    "returns the idx of max elem"
   ]
  },
  {
   "cell_type": "code",
   "execution_count": 33,
   "id": "0fad0eb3-2dce-4da1-9a95-ef3ef1008f7e",
   "metadata": {},
   "outputs": [
    {
     "data": {
      "text/plain": [
       "np.int64(3)"
      ]
     },
     "execution_count": 33,
     "metadata": {},
     "output_type": "execute_result"
    }
   ],
   "source": [
    "brr.argmin()"
   ]
  },
  {
   "cell_type": "code",
   "execution_count": 34,
   "id": "5632e78b-9f7b-4074-8088-20f5e73d9762",
   "metadata": {},
   "outputs": [
    {
     "data": {
      "text/plain": [
       "array([3, 4, 2, 0, 1])"
      ]
     },
     "execution_count": 34,
     "metadata": {},
     "output_type": "execute_result"
    }
   ],
   "source": [
    "brr.argsort()"
   ]
  },
  {
   "cell_type": "markdown",
   "id": "310fc646-3f50-472e-abcd-be24c628535c",
   "metadata": {},
   "source": [
    "returns idx of the sorted array (how it will be sorted)"
   ]
  },
  {
   "cell_type": "code",
   "execution_count": 35,
   "id": "c3d91ef1-dc13-400f-939f-1014860a3762",
   "metadata": {},
   "outputs": [
    {
     "data": {
      "text/plain": [
       "array([[1, 2, 3],\n",
       "       [4, 5, 6],\n",
       "       [7, 1, 0]])"
      ]
     },
     "execution_count": 35,
     "metadata": {},
     "output_type": "execute_result"
    }
   ],
   "source": [
    "arr"
   ]
  },
  {
   "cell_type": "code",
   "execution_count": 36,
   "id": "13894020-fa97-49f9-9897-5689e3eaac1c",
   "metadata": {},
   "outputs": [
    {
     "data": {
      "text/plain": [
       "np.int64(6)"
      ]
     },
     "execution_count": 36,
     "metadata": {},
     "output_type": "execute_result"
    }
   ],
   "source": [
    "arr.argmax()"
   ]
  },
  {
   "cell_type": "code",
   "execution_count": 37,
   "id": "a91ad778-13fd-4109-8726-9968861d7eeb",
   "metadata": {},
   "outputs": [
    {
     "data": {
      "text/plain": [
       "np.int64(8)"
      ]
     },
     "execution_count": 37,
     "metadata": {},
     "output_type": "execute_result"
    }
   ],
   "source": [
    "arr.argmin()"
   ]
  },
  {
   "cell_type": "code",
   "execution_count": 38,
   "id": "9fb98a62-d6b1-4cae-ad92-790f3f54753a",
   "metadata": {},
   "outputs": [
    {
     "data": {
      "text/plain": [
       "array([2, 1, 1])"
      ]
     },
     "execution_count": 38,
     "metadata": {},
     "output_type": "execute_result"
    }
   ],
   "source": [
    "arr.argmax(axis = 0)"
   ]
  },
  {
   "cell_type": "code",
   "execution_count": 39,
   "id": "2098ee49-88c2-4bdf-b394-ff7959dbbf25",
   "metadata": {},
   "outputs": [
    {
     "data": {
      "text/plain": [
       "array([2, 2, 0])"
      ]
     },
     "execution_count": 39,
     "metadata": {},
     "output_type": "execute_result"
    }
   ],
   "source": [
    "arr.argmax(axis = 1)"
   ]
  },
  {
   "cell_type": "code",
   "execution_count": 41,
   "id": "f91b5781-2354-4b1c-83ec-f710b7e37916",
   "metadata": {},
   "outputs": [],
   "source": [
    "arr1 = np.array([[1, 0, 3], [1, 1, 1], [0, 3, 2]])"
   ]
  },
  {
   "cell_type": "code",
   "execution_count": 42,
   "id": "4c057088-cf06-49f3-9210-9131aab1d6fe",
   "metadata": {},
   "outputs": [
    {
     "data": {
      "text/plain": [
       "array([[1, 2, 3],\n",
       "       [4, 5, 6],\n",
       "       [7, 1, 0]])"
      ]
     },
     "execution_count": 42,
     "metadata": {},
     "output_type": "execute_result"
    }
   ],
   "source": [
    "arr"
   ]
  },
  {
   "cell_type": "code",
   "execution_count": 43,
   "id": "6c1fef3c-e368-4de7-81e5-1fcec8214936",
   "metadata": {},
   "outputs": [
    {
     "data": {
      "text/plain": [
       "array([[1, 0, 3],\n",
       "       [1, 1, 1],\n",
       "       [0, 3, 2]])"
      ]
     },
     "execution_count": 43,
     "metadata": {},
     "output_type": "execute_result"
    }
   ],
   "source": [
    "arr1"
   ]
  },
  {
   "cell_type": "code",
   "execution_count": 44,
   "id": "02535132-7b56-4da8-8404-d0e03f84bfbf",
   "metadata": {},
   "outputs": [
    {
     "data": {
      "text/plain": [
       "array([[2, 2, 6],\n",
       "       [5, 6, 7],\n",
       "       [7, 4, 2]])"
      ]
     },
     "execution_count": 44,
     "metadata": {},
     "output_type": "execute_result"
    }
   ],
   "source": [
    "arr + arr1"
   ]
  },
  {
   "cell_type": "code",
   "execution_count": 46,
   "id": "6adfd9a9-c8cd-48c1-8d67-8d19c77bfbc6",
   "metadata": {},
   "outputs": [
    {
     "data": {
      "text/plain": [
       "array([[1, 0, 9],\n",
       "       [4, 5, 6],\n",
       "       [0, 3, 0]])"
      ]
     },
     "execution_count": 46,
     "metadata": {},
     "output_type": "execute_result"
    }
   ],
   "source": [
    "arr * arr1"
   ]
  },
  {
   "cell_type": "code",
   "execution_count": 47,
   "id": "d3bc41d9-8e3a-4654-847a-1d221ad2683e",
   "metadata": {},
   "outputs": [
    {
     "data": {
      "text/plain": [
       "array([[1.        , 1.41421356, 1.73205081],\n",
       "       [2.        , 2.23606798, 2.44948974],\n",
       "       [2.64575131, 1.        , 0.        ]])"
      ]
     },
     "execution_count": 47,
     "metadata": {},
     "output_type": "execute_result"
    }
   ],
   "source": [
    "np.sqrt(arr)"
   ]
  },
  {
   "cell_type": "code",
   "execution_count": 48,
   "id": "3b18156d-58d0-4715-b60a-10a4c32a03eb",
   "metadata": {},
   "outputs": [
    {
     "data": {
      "text/plain": [
       "array([[1, 2, 3],\n",
       "       [4, 5, 6],\n",
       "       [7, 1, 0]])"
      ]
     },
     "execution_count": 48,
     "metadata": {},
     "output_type": "execute_result"
    }
   ],
   "source": [
    "arr"
   ]
  },
  {
   "cell_type": "code",
   "execution_count": 50,
   "id": "867b170f-e319-4d0b-899a-091e93aa8443",
   "metadata": {},
   "outputs": [
    {
     "data": {
      "text/plain": [
       "(array([1, 2]), array([2, 0]))"
      ]
     },
     "execution_count": 50,
     "metadata": {},
     "output_type": "execute_result"
    }
   ],
   "source": [
    "np.where(arr > 5)"
   ]
  },
  {
   "cell_type": "markdown",
   "id": "177899ff-dbdc-444a-8314-90de471e0401",
   "metadata": {},
   "source": [
    "return tupple (row & col) where u can find the element"
   ]
  },
  {
   "cell_type": "code",
   "execution_count": 51,
   "id": "43f6dc10-79f3-4ec6-b56d-e2d5a2599f33",
   "metadata": {},
   "outputs": [
    {
     "data": {
      "text/plain": [
       "8"
      ]
     },
     "execution_count": 51,
     "metadata": {},
     "output_type": "execute_result"
    }
   ],
   "source": [
    "np.count_nonzero(arr)"
   ]
  },
  {
   "cell_type": "markdown",
   "id": "c7b9fbb4-2c1f-47af-a566-d60e1296effb",
   "metadata": {},
   "source": [
    "<h2>Size of Array VS Numpy Array</h2>"
   ]
  },
  {
   "cell_type": "code",
   "execution_count": 52,
   "id": "c9a7c4e2-5dfa-40d1-8617-d8c2d73c7fc0",
   "metadata": {},
   "outputs": [],
   "source": [
    "import sys"
   ]
  },
  {
   "cell_type": "code",
   "execution_count": 53,
   "id": "e92922e4-1ebc-45d7-8a84-1e495d8bb67a",
   "metadata": {},
   "outputs": [],
   "source": [
    "py_ar = [1, 2, 3, 4]"
   ]
  },
  {
   "cell_type": "code",
   "execution_count": 54,
   "id": "b46a5db9-9e66-49a0-b4b1-4e4588c7035a",
   "metadata": {},
   "outputs": [],
   "source": [
    "np_ar = np.array(py_ar)"
   ]
  },
  {
   "cell_type": "code",
   "execution_count": 55,
   "id": "8d09f927-c0e7-411a-a011-b855374a63ef",
   "metadata": {},
   "outputs": [
    {
     "data": {
      "text/plain": [
       "112"
      ]
     },
     "execution_count": 55,
     "metadata": {},
     "output_type": "execute_result"
    }
   ],
   "source": [
    "sys.getsizeof(1) * len(py_ar)"
   ]
  },
  {
   "cell_type": "code",
   "execution_count": 57,
   "id": "b3b548f7-2504-45fb-a526-e993e03400a1",
   "metadata": {},
   "outputs": [
    {
     "data": {
      "text/plain": [
       "32"
      ]
     },
     "execution_count": 57,
     "metadata": {},
     "output_type": "execute_result"
    }
   ],
   "source": [
    "np_ar.itemsize * np_ar.size"
   ]
  },
  {
   "cell_type": "markdown",
   "id": "4a268824-6be5-4541-b5c0-efcb981ddc52",
   "metadata": {},
   "source": [
    "<h3><i>For more attributes <a href = \"https://docs.scipy.org/doc/numpy-1.6.0/reference/generated/numpy.ndarray.html\">Numpy Attributes</a></i></h3>"
   ]
  },
  {
   "cell_type": "code",
   "execution_count": null,
   "id": "6fc130d1-639c-4c79-af6a-193faceb9c27",
   "metadata": {},
   "outputs": [],
   "source": []
  }
 ],
 "metadata": {
  "kernelspec": {
   "display_name": "Python 3 (ipykernel)",
   "language": "python",
   "name": "python3"
  },
  "language_info": {
   "codemirror_mode": {
    "name": "ipython",
    "version": 3
   },
   "file_extension": ".py",
   "mimetype": "text/x-python",
   "name": "python",
   "nbconvert_exporter": "python",
   "pygments_lexer": "ipython3",
   "version": "3.11.4"
  }
 },
 "nbformat": 4,
 "nbformat_minor": 5
}
